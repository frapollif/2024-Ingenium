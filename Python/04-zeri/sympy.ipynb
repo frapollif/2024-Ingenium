{
 "cells": [
  {
   "cell_type": "code",
   "execution_count": 49,
   "metadata": {},
   "outputs": [
    {
     "data": {
      "text/latex": [
       "$\\displaystyle - x^{2}$"
      ],
      "text/plain": [
       "-x**2"
      ]
     },
     "execution_count": 49,
     "metadata": {},
     "output_type": "execute_result"
    }
   ],
   "source": [
    "import sympy as sym\n",
    "import numpy as np\n",
    "\n",
    "x=sym.Symbol('x')\n",
    "#expr=sym.sin(x**2+2*x)-2*x**2+2\n",
    "expr=-3*x**2+2*x**2\n",
    "\n",
    "f=sym.lambdify( x, expr, 'numpy' )\n",
    "df=sym.lambdify( x, sym.diff(expr,x), 'numpy' ) \n",
    "\n",
    "expr\n"
   ]
  },
  {
   "cell_type": "code",
   "execution_count": 50,
   "metadata": {},
   "outputs": [],
   "source": [
    "def newton_simbolico(guess,expr,precision,max_steps):\n",
    "    x=sym.Symbol('x')\n",
    "    f=sym.lambdify( x, expr, 'numpy' )\n",
    "    df=sym.lambdify( x, sym.diff(expr,x), 'numpy' ) \n",
    "\n",
    "    while np.abs(f(guess))>precision and max_steps>0:\n",
    "        guess=guess-f(guess)/df(guess)\n",
    "        max_steps-=1\n",
    "    if max_steps==0:\n",
    "        print(\"Non ho trovato lo zero entro il numero massimo di passi \\n Ultimo valore calcolato: \",guess)\n",
    "    return guess"
   ]
  },
  {
   "cell_type": "code",
   "execution_count": 51,
   "metadata": {},
   "outputs": [
    {
     "data": {
      "text/plain": [
       "-0.000732421875"
      ]
     },
     "execution_count": 51,
     "metadata": {},
     "output_type": "execute_result"
    }
   ],
   "source": [
    "newton_simbolico(-3,expr,1e-6,100)"
   ]
  },
  {
   "cell_type": "code",
   "execution_count": 52,
   "metadata": {},
   "outputs": [],
   "source": [
    "extremum=newton_simbolico(1,sym.diff(expr,x),1e-6,100)"
   ]
  },
  {
   "cell_type": "code",
   "execution_count": 53,
   "metadata": {},
   "outputs": [
    {
     "name": "stdout",
     "output_type": "stream",
     "text": [
      "Massimo di -0.0 a 0.0\n"
     ]
    }
   ],
   "source": [
    "ddf=sym.lambdify(x,sym.diff(expr,x,2),'numpy')\n",
    "if ddf(extremum)<0:\n",
    "    print(\"Massimo di {} a {}\".format(f(extremum),extremum))\n",
    "elif ddf(extremum)>0:\n",
    "    print(\"Minimo di {} a {}\".format(f(extremum),extremum))\n",
    "else:\n",
    "    print(\"Servono più informazioni\")\n"
   ]
  },
  {
   "cell_type": "code",
   "execution_count": null,
   "metadata": {},
   "outputs": [],
   "source": []
  },
  {
   "cell_type": "code",
   "execution_count": null,
   "metadata": {},
   "outputs": [],
   "source": []
  }
 ],
 "metadata": {
  "kernelspec": {
   "display_name": "python39",
   "language": "python",
   "name": "python3"
  },
  "language_info": {
   "codemirror_mode": {
    "name": "ipython",
    "version": 3
   },
   "file_extension": ".py",
   "mimetype": "text/x-python",
   "name": "python",
   "nbconvert_exporter": "python",
   "pygments_lexer": "ipython3",
   "version": "3.9.13"
  }
 },
 "nbformat": 4,
 "nbformat_minor": 2
}
