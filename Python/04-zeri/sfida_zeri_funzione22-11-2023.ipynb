{
 "cells": [
  {
   "cell_type": "markdown",
   "metadata": {},
   "source": [
    "# SFIDA: \n",
    "## Determinare numericamente gli zeri di una funzione\n",
    "\n",
    "Volgiamo determinare numericamente gli zeri di una funzione. Per questo motivo non è permesso l'utilizzo di una caloclatrice grafica (Desmos, ...).\n",
    "\n",
    "I risultati devono essere dedotti solo dai valori numerici della funzione.\n",
    "\n",
    "In un secondo momento ci soffermeremo sulla rappresentazione grafica per poter generalizzare i metodi scoperti e definire degli algoritmi generici."
   ]
  },
  {
   "cell_type": "markdown",
   "metadata": {},
   "source": []
  },
  {
   "cell_type": "markdown",
   "metadata": {},
   "source": [
    "Proviamo ad esempio a determinare gli zeri della funzionne di legge \n",
    "$$f(x)=\\sin(x^2+2x) -2x^2+2$$"
   ]
  },
  {
   "cell_type": "markdown",
   "metadata": {},
   "source": [
    "In questi casi ci serve la libreria `numpy`\n",
    "\n",
    "__[Documentazione NumPy](https://numpy.org/doc/stable/reference/index.html)__"
   ]
  },
  {
   "cell_type": "code",
   "execution_count": 1,
   "metadata": {},
   "outputs": [],
   "source": [
    "import numpy as np"
   ]
  },
  {
   "cell_type": "markdown",
   "metadata": {},
   "source": [
    "Abbimao importato la libreria e assegnato il nome `np`\n",
    "\n",
    "Per utilizzare delle funzioni (o delle costanti) di `numpy` possiamo utilizzare `np.<funzione>` (`np.<costante>`)\n",
    "\n",
    "Ad esempio per ottenere il valore di $\\pi$ utilizzeremo `np.pi`"
   ]
  },
  {
   "cell_type": "code",
   "execution_count": 2,
   "metadata": {},
   "outputs": [
    {
     "data": {
      "text/plain": [
       "3.141592653589793"
      ]
     },
     "execution_count": 2,
     "metadata": {},
     "output_type": "execute_result"
    }
   ],
   "source": [
    "np.pi"
   ]
  },
  {
   "cell_type": "markdown",
   "metadata": {},
   "source": [
    "Definiamo la funzione in Python\n",
    "\n",
    "Per definire una funzione \n",
    "```\n",
    "def <nome_funzione>(<arg1>,<arg2>,<arg3=valore_default>):\n",
    "    <corpo della funzione>\n",
    "    return <valore di output>\n",
    "\n",
    "```"
   ]
  },
  {
   "cell_type": "code",
   "execution_count": 3,
   "metadata": {},
   "outputs": [],
   "source": [
    "def f(x):\n",
    "    return np.sin(x**2+2*x)-2*x**2+2"
   ]
  },
  {
   "cell_type": "markdown",
   "metadata": {},
   "source": [
    "Per utilizzare la funzione \n",
    "```\n",
    "<nome_funzione>(<argomento>)\n",
    "```\n",
    "\n",
    "Ad esempio per calcolare $f(1)$"
   ]
  },
  {
   "cell_type": "code",
   "execution_count": 4,
   "metadata": {},
   "outputs": [
    {
     "data": {
      "text/plain": [
       "0.14112000805986713"
      ]
     },
     "execution_count": 4,
     "metadata": {},
     "output_type": "execute_result"
    }
   ],
   "source": [
    "f(1)\n"
   ]
  },
  {
   "cell_type": "markdown",
   "metadata": {},
   "source": [
    "Derivata numerica di $f(x)$"
   ]
  },
  {
   "cell_type": "code",
   "execution_count": 5,
   "metadata": {},
   "outputs": [],
   "source": [
    "def derivata_numerica(x,f,h=1e-6, precisione=1e-6): \n",
    "    '''Calcola la derivata numerica di una funzione\n",
    "    Parametri:\n",
    "    x: punto in cui si vuole calcolare la derivata\n",
    "    f: funzione di cui si vuole calcolare la derivata\n",
    "    h: passo di discretizzazione\n",
    "    '''  \n",
    "    valore_derivata=(f(x+h)-f(x))/h\n",
    "    return valore_derivata\n",
    "\n",
    "def newton_numerico(x,funzione,precision=1e-6, max_steps=100):\n",
    "    '''Calcola lo zero di una funzione con il metodo di Newton\n",
    "    Parametri:\n",
    "    x: punto di partenza\n",
    "    funzione: funzione di cui si vuole calcolare lo zero\n",
    "    precision: precisione richiesta\n",
    "    max_steps: numero massimo di passi\n",
    "   '''\n",
    "    while np.abs(funzione(x))>precision and max_steps>0:\n",
    "        if derivata_numerica(x,funzione)==0:\n",
    "            print(\"Derivata nulla\")\n",
    "            return None\n",
    "        x=x-funzione(x)/derivata_numerica(x,funzione)\n",
    "        max_steps-=1\n",
    "    \n",
    "    if max_steps==0:\n",
    "        print(\"Non ho trovato lo zero entro il numero massimo di passi \\n Ultimo valore calcolato: \",x)\n",
    "    return x"
   ]
  },
  {
   "cell_type": "code",
   "execution_count": 6,
   "metadata": {},
   "outputs": [
    {
     "data": {
      "text/plain": [
       "-0.7707388315468399"
      ]
     },
     "execution_count": 6,
     "metadata": {},
     "output_type": "execute_result"
    }
   ],
   "source": [
    "newton_numerico(-1,f)"
   ]
  },
  {
   "cell_type": "markdown",
   "metadata": {},
   "source": [
    "Determinare massimi e minimi di $f$ in maniera numerica"
   ]
  },
  {
   "cell_type": "code",
   "execution_count": 7,
   "metadata": {},
   "outputs": [],
   "source": [
    "\n",
    "def trova_massimi_minimi(x,funzione,precision=1e-6, max_steps=100):\n",
    "    def derivata(x):\n",
    "        return derivata_numerica(x,funzione)\n",
    "    estremo=newton_numerico(x,derivata,precision,max_steps)\n",
    "    if estremo==None:\n",
    "        return None\n",
    "    delta=1e-6\n",
    "    valore_estremo=funzione(estremo)\n",
    "    valore_prima=funzione(estremo-delta)\n",
    "    valore_dopo=funzione(estremo+delta)\n",
    "    print(valore_prima,valore_estremo,valore_dopo)\n",
    "    if valore_prima<valore_estremo and valore_dopo<valore_estremo:\n",
    "\n",
    "        return \"Trovato un massimo di {} in {}\".format(valore_estremo,estremo)\n",
    "    elif  valore_prima>valore_estremo and valore_dopo>valore_estremo:\n",
    "        return \"trovato un minimo di {} in {}\".format(valore_estremo,estremo)\n",
    "    else:\n",
    "        return \"trovato un flesso in {}\".format(estremo)         \n",
    "        \n",
    "        "
   ]
  },
  {
   "cell_type": "code",
   "execution_count": 8,
   "metadata": {},
   "outputs": [
    {
     "name": "stdout",
     "output_type": "stream",
     "text": [
      "1.1568466861542924e-10 1.1639839123059584e-10 1.171150433912314e-10\n"
     ]
    },
    {
     "data": {
      "text/plain": [
       "'trovato un flesso in 0.0004882575781630941'"
      ]
     },
     "execution_count": 8,
     "metadata": {},
     "output_type": "execute_result"
    }
   ],
   "source": [
    "trova_massimi_minimi(2,lambda x: x**3,precision=1e-6)"
   ]
  },
  {
   "cell_type": "code",
   "execution_count": null,
   "metadata": {},
   "outputs": [],
   "source": []
  }
 ],
 "metadata": {
  "kernelspec": {
   "display_name": "Python 3",
   "language": "python",
   "name": "python3"
  },
  "language_info": {
   "codemirror_mode": {
    "name": "ipython",
    "version": 3
   },
   "file_extension": ".py",
   "mimetype": "text/x-python",
   "name": "python",
   "nbconvert_exporter": "python",
   "pygments_lexer": "ipython3",
   "version": "3.9.13"
  }
 },
 "nbformat": 4,
 "nbformat_minor": 2
}
